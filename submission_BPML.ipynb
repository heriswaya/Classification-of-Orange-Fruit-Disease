{
  "nbformat": 4,
  "nbformat_minor": 0,
  "metadata": {
    "colab": {
      "provenance": [],
      "gpuType": "T4"
    },
    "kernelspec": {
      "name": "python3",
      "display_name": "Python 3"
    },
    "language_info": {
      "name": "python"
    },
    "accelerator": "GPU"
  },
  "cells": [
    {
      "cell_type": "markdown",
      "metadata": {
        "id": "H9wADwK78DCz"
      },
      "source": [
        "# Proyek Klasifikasi Gambar: Orange Fruit Dataset\n",
        "- **Nama:** Heriswaya\n",
        "- **Email:** heriswaya2014@gmail.com\n",
        "- **ID Dicoding:** heriswaya_"
      ]
    },
    {
      "cell_type": "markdown",
      "source": [
        "# **About Data**\n",
        "The orange fruit dataset was gathered using a phone camera in the `HEIC (highly enhanced image container)` format and was converted to `JPEG format`. This dataset was collected in research carried out to determine the dominant diseases affecting oranges in the eastern parts of `Uganda`. It can be used for any artificial intelligence project and any agricultural research by anyone.\n",
        "\n",
        "# **Objective**\n",
        "Membangun sebuah model CNN yang dapat mengklasifikasikan penyakit pada jeruk (`Healthy`,`Citrus Canker`,`Melanose`) menggunakan gambar yang diambil di daerah Uganda Timur."
      ],
      "metadata": {
        "id": "gIC5ywPd86cn"
      }
    },
    {
      "cell_type": "markdown",
      "metadata": {
        "id": "H-z4QGlO8DC1"
      },
      "source": [
        "## Import Semua Packages/Library yang Digunakan"
      ]
    },
    {
      "cell_type": "code",
      "execution_count": 1,
      "metadata": {
        "id": "FVYwaObI8DC1"
      },
      "outputs": [],
      "source": [
        "# Mengimpor libraries umum yang sering digunakan\n",
        "import os, shutil\n",
        "import zipfile\n",
        "import random\n",
        "from random import sample\n",
        "import shutil\n",
        "from shutil import copyfile\n",
        "import pathlib\n",
        "from pathlib import Path\n",
        "import numpy as np\n",
        "import pandas as pd\n",
        "from tqdm.notebook import tqdm as tq\n",
        "\n",
        "# Mengimpor libraries untuk visualisasi\n",
        "%matplotlib inline\n",
        "import matplotlib.image as mpimg\n",
        "import matplotlib.pyplot as plt\n",
        "import seaborn as sns\n",
        "from matplotlib.image import imread\n",
        "\n",
        "# Mengimpor libraries untuk pemrosesan data gambar\n",
        "import cv2\n",
        "from PIL import Image\n",
        "import skimage\n",
        "from skimage import io\n",
        "from skimage.transform import resize\n",
        "from skimage.transform import rotate, AffineTransform, warp\n",
        "from skimage import img_as_ubyte\n",
        "from skimage.exposure import adjust_gamma\n",
        "from skimage.util import random_noise\n",
        "\n",
        "# Mengimpor libraries untuk pembuatan dan evaluasi model\n",
        "import keras\n",
        "from sklearn.model_selection import train_test_split\n",
        "from sklearn.metrics import confusion_matrix, classification_report\n",
        "import tensorflow as tf\n",
        "from tensorflow.keras import Model, layers\n",
        "from tensorflow.keras.preprocessing import image\n",
        "from tensorflow.keras.preprocessing.image import ImageDataGenerator, img_to_array, load_img\n",
        "from tensorflow.keras.optimizers import Adam, RMSprop, SGD\n",
        "from tensorflow.keras.layers import InputLayer, Conv2D, SeparableConv2D, MaxPooling2D, MaxPool2D, Dense, Flatten, Dropout, BatchNormalization\n",
        "from tensorflow.keras.models import Sequential, Model\n",
        "from tensorflow.keras.applications import MobileNet\n",
        "from tensorflow.keras.applications.densenet import DenseNet121\n",
        "from tensorflow.keras.utils import to_categorical\n",
        "from tensorflow.keras.callbacks import ModelCheckpoint, Callback, EarlyStopping, ReduceLROnPlateau\n",
        "\n",
        "# Mengabaikan peringatan\n",
        "import warnings\n",
        "warnings.simplefilter(action='ignore', category=FutureWarning)"
      ]
    },
    {
      "cell_type": "code",
      "source": [
        "# Mencetak versi TensorFlow yang sedang digunakan\n",
        "print(tf.__version__)"
      ],
      "metadata": {
        "id": "rjI793Cz6RYY",
        "outputId": "43684cf1-4159-4351-b7eb-948c6985cb9e",
        "colab": {
          "base_uri": "https://localhost:8080/"
        }
      },
      "execution_count": 2,
      "outputs": [
        {
          "output_type": "stream",
          "name": "stdout",
          "text": [
            "2.18.0\n"
          ]
        }
      ]
    },
    {
      "cell_type": "markdown",
      "source": [
        "## Data Preparation"
      ],
      "metadata": {
        "id": "TK4DvqfbYrN8"
      }
    },
    {
      "cell_type": "markdown",
      "metadata": {
        "id": "HHekw29KX4XQ"
      },
      "source": [
        "### Data Loading"
      ]
    },
    {
      "cell_type": "code",
      "source": [
        "# Mount Google Drive\n",
        "from google.colab import drive\n",
        "drive.mount('/content/drive')"
      ],
      "metadata": {
        "id": "bmJTDxyWBGi6",
        "outputId": "28651bb9-3170-4b99-c887-898d4502a47b",
        "colab": {
          "base_uri": "https://localhost:8080/"
        }
      },
      "execution_count": 19,
      "outputs": [
        {
          "output_type": "stream",
          "name": "stdout",
          "text": [
            "Mounted at /content/drive\n"
          ]
        }
      ]
    },
    {
      "cell_type": "code",
      "source": [
        "# Copy file zip dari Drive ke Colab Workspace\n",
        "!cp /content/drive/MyDrive/klasifikasi/orange-fruit-dataset.zip /content/"
      ],
      "metadata": {
        "id": "u-ryTr09E5k6"
      },
      "execution_count": 23,
      "outputs": []
    },
    {
      "cell_type": "code",
      "source": [
        "# Unzip dataset\n",
        "!unzip orange-fruit-daatset.zip"
      ],
      "metadata": {
        "id": "RGEfeaKbKohd",
        "outputId": "d217a41b-da1d-432b-bc92-db0f88c958ce",
        "colab": {
          "base_uri": "https://localhost:8080/"
        }
      },
      "execution_count": 28,
      "outputs": [
        {
          "output_type": "stream",
          "name": "stdout",
          "text": [
            "unzip:  cannot find or open orange-fruit-daatset.zip, orange-fruit-daatset.zip.zip or orange-fruit-daatset.zip.ZIP.\n"
          ]
        }
      ]
    },
    {
      "cell_type": "markdown",
      "source": [
        "### Menggabungkan Data `citrus canker`, `healthy`, dan `melanose` ke direktori yang sama"
      ],
      "metadata": {
        "id": "TpEcfv9yPp6y"
      }
    },
    {
      "cell_type": "code",
      "source": [
        "# Direktori asal\n",
        "origin_dir = \"FIELD IMAGES\"\n",
        "\n",
        "# Direktori tujuan\n",
        "combined_dir = \"dataset\"\n",
        "\n",
        "# Buat folder baru untuk dataset gabungan\n",
        "os.makedirs(combined_dir, exist_ok=True)\n",
        "\n",
        "# Salin semua folder kelas (citrus canker, healthy, melanose)\n",
        "for category in os.listdir(origin_dir):\n",
        "    category_dir = os.path.join(origin_dir, category)\n",
        "    if os.path.isdir(category_dir):\n",
        "        shutil.copytree(category_dir, os.path.join(combined_dir, category), dirs_exist_ok=True)"
      ],
      "metadata": {
        "id": "0vYBlk7GQC6p"
      },
      "execution_count": null,
      "outputs": []
    },
    {
      "cell_type": "markdown",
      "source": [
        "### Menampilkan beberapa gambar dari ketiga kelas"
      ],
      "metadata": {
        "id": "P5pD_yhCQGA9"
      }
    },
    {
      "cell_type": "code",
      "source": [
        "# Membuat kamus untuk menyimpan gambar untuk setiap kelas dalam dataset\n",
        "orange_images = {}\n",
        "\n",
        "# Path ke folder dataset gabungan\n",
        "path = \"dataset\"\n",
        "for class_name in os.listdir(path):\n",
        "    class_path = os.path.join(path, class_name)\n",
        "    if os.path.isdir(class_path):\n",
        "        orange_images[class_name] = os.listdir(class_path)\n",
        "\n",
        "# Menampilkan secara acak 5 gambar dari masing-masing kelas\n",
        "fig, axs = plt.subplots(len(orange_images.keys()), 5, figsize=(16, 12))  # ukuran figurenya dibesarkan sedikit\n",
        "\n",
        "for i, class_name in enumerate(orange_images.keys()):\n",
        "    images = np.random.choice(orange_images[class_name], 5, replace=False)\n",
        "\n",
        "    for j, image_name in enumerate(images):\n",
        "        img_path = os.path.join(path, class_name, image_name)\n",
        "        img = Image.open(img_path).convert(\"RGB\")  # gambar pada dataset berwarna, jadi pakai RGB\n",
        "        axs[i, j].imshow(img)\n",
        "        axs[i, j].set_title(class_name, fontsize=8)  # kasih title kecil di atas gambar\n",
        "        axs[i, j].axis('off')  # hilangkan axis supaya lebih clean\n",
        "\n",
        "fig.suptitle('Sample Images from Each Class', fontsize=20)\n",
        "fig.tight_layout()\n",
        "plt.show()"
      ],
      "metadata": {
        "id": "U_T1eTldRNVY"
      },
      "execution_count": null,
      "outputs": []
    },
    {
      "cell_type": "markdown",
      "source": [
        "### Plot Distribusi gambar diseluruh kelas"
      ],
      "metadata": {
        "id": "J8FfCgliRZCp"
      }
    },
    {
      "cell_type": "code",
      "source": [
        "# Path ke folder dataset\n",
        "orange_path = \"dataset/\"\n",
        "\n",
        "# List untuk menyimpan informasi file\n",
        "file_names = []\n",
        "labels = []\n",
        "full_paths = []\n",
        "\n",
        "# Loop untuk mengambil semua file dan label\n",
        "for path_dir, subdirs, files in os.walk(orange_path):\n",
        "    for file_name in files:\n",
        "        full_path = os.path.join(path_dir, file_name)\n",
        "        label = os.path.basename(path_dir)  # ambil nama folder sebagai label\n",
        "\n",
        "        full_paths.append(full_path)\n",
        "        file_names.append(file_name)\n",
        "        labels.append(label)\n",
        "\n",
        "# Membuat DataFrame\n",
        "orange_df = pd.DataFrame({\n",
        "    \"file_name\": file_names,\n",
        "    \"path\": full_paths,\n",
        "    \"label\": labels\n",
        "})\n",
        "\n",
        "# Plot distribusi jumlah gambar per kelas\n",
        "plt.figure(figsize=(8,6))\n",
        "sns.set_style(\"whitegrid\")\n",
        "sns.countplot(data=orange_df, x='label', palette=\"Set2\")\n",
        "\n",
        "plt.title('Distribution of Images Across Classes', fontsize=16)\n",
        "plt.xlabel('Class', fontsize=12)\n",
        "plt.ylabel('Number of Images', fontsize=12)\n",
        "plt.xticks(rotation=15)\n",
        "plt.show()"
      ],
      "metadata": {
        "id": "EV6Eezk_RYj6"
      },
      "execution_count": null,
      "outputs": []
    },
    {
      "cell_type": "markdown",
      "source": [
        "### Data Augmentation"
      ],
      "metadata": {
        "id": "hKdWJkA2bZae"
      }
    },
    {
      "cell_type": "markdown",
      "metadata": {
        "id": "bFgLyQPHX98s"
      },
      "source": [
        "### Data Preprocessing"
      ]
    },
    {
      "cell_type": "markdown",
      "source": [
        "#### Split Dataset"
      ],
      "metadata": {
        "id": "9ICO2-E0YxzD"
      }
    },
    {
      "cell_type": "code",
      "execution_count": null,
      "metadata": {
        "id": "8HJokQbxX98s"
      },
      "outputs": [],
      "source": []
    },
    {
      "cell_type": "markdown",
      "metadata": {
        "id": "nc-Ph-oIYAUU"
      },
      "source": [
        "## Modelling"
      ]
    },
    {
      "cell_type": "code",
      "execution_count": null,
      "metadata": {
        "id": "UTwK0t8XYAUU"
      },
      "outputs": [],
      "source": []
    },
    {
      "cell_type": "markdown",
      "metadata": {
        "id": "XctzCfzbYCBK"
      },
      "source": [
        "## Evaluasi dan Visualisasi"
      ]
    },
    {
      "cell_type": "code",
      "execution_count": null,
      "metadata": {
        "id": "EKk-ScZWYCBK"
      },
      "outputs": [],
      "source": []
    },
    {
      "cell_type": "markdown",
      "metadata": {
        "id": "y_fIsUogYFSk"
      },
      "source": [
        "## Konversi Model"
      ]
    },
    {
      "cell_type": "code",
      "execution_count": null,
      "metadata": {
        "id": "hZvGBpYoYFSl"
      },
      "outputs": [],
      "source": []
    },
    {
      "cell_type": "markdown",
      "source": [
        "## Inference (Optional)"
      ],
      "metadata": {
        "id": "8DbfEwvvm5U4"
      }
    },
    {
      "cell_type": "code",
      "source": [],
      "metadata": {
        "id": "ue5esMSSm8GQ"
      },
      "execution_count": null,
      "outputs": []
    }
  ]
}